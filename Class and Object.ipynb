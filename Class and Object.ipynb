{
 "cells": [
  {
   "cell_type": "code",
   "execution_count": 1,
   "id": "bbb6e12c",
   "metadata": {},
   "outputs": [
    {
     "name": "stdout",
     "output_type": "stream",
     "text": [
      "Your Information:\n",
      "Your name is  Tushar .\n",
      "Your course is  BCA .\n"
     ]
    }
   ],
   "source": [
    "class Info:\n",
    "    print(\"Your Information:\")\n",
    "    def __init__(self,name,course):# Special Method\n",
    "        self.name=name\n",
    "        self.course=course\n",
    "        print(\"Your name is \",self.name,\".\")\n",
    "        print(\"Your course is \",self.course,\".\")\n",
    "p=Info(\"Tushar\",\"BCA\")"
   ]
  },
  {
   "cell_type": "code",
   "execution_count": 2,
   "id": "e460da41",
   "metadata": {},
   "outputs": [
    {
     "name": "stdout",
     "output_type": "stream",
     "text": [
      "Your Information:\n",
      "Your name is  Tushar .\n",
      "Your course is  BCA .\n"
     ]
    }
   ],
   "source": [
    "# We can use any name for constructor\n",
    "class Info:\n",
    "    print(\"Your Information:\")\n",
    "    def __init__(hello,name,course):# Ex=constructor is hello\n",
    "        hello.name=name\n",
    "        hello.course=course\n",
    "        print(\"Your name is \",hello.name,\".\")\n",
    "        print(\"Your course is \",hello.course,\".\")\n",
    "p=Info(\"Tushar\",\"BCA\")"
   ]
  },
  {
   "cell_type": "code",
   "execution_count": 7,
   "id": "7f22063d",
   "metadata": {},
   "outputs": [
    {
     "name": "stdout",
     "output_type": "stream",
     "text": [
      "Your Information:\n",
      "Your name is  Tushar .\n",
      "Your course is  BCA .\n"
     ]
    }
   ],
   "source": [
    "class Info:\n",
    "    print(\"Your Information:\")\n",
    "    def __init__(self,name,course):# Special Method\n",
    "        self.name=name\n",
    "        self.course=course\n",
    "    def Value(self):# Method\n",
    "        print(\"Your name is \",self.name,\".\")\n",
    "        print(\"Your course is \",self.course,\".\")\n",
    "p=Info(\"Tushar\",\"BCA\")\n",
    "p.Value()"
   ]
  },
  {
   "cell_type": "code",
   "execution_count": 9,
   "id": "789e9b9e",
   "metadata": {},
   "outputs": [
    {
     "name": "stdout",
     "output_type": "stream",
     "text": [
      "Enter Your name=Tushar\n",
      "Enter Your Course=BCA\n",
      "Your Information:\n",
      "Your name is  Tushar .\n",
      "Your course is  BCA .\n"
     ]
    }
   ],
   "source": [
    "class Info:\n",
    "    def __init__(self,name,course):\n",
    "        self.name=name\n",
    "        self.course=course\n",
    "    def Value(self):\n",
    "        print(\"Your Information:\")\n",
    "        print(\"Your name is \",self.name,\".\")\n",
    "        print(\"Your course is \",self.course,\".\")\n",
    "a=input(\"Enter Your name=\")\n",
    "b=input(\"Enter Your Course=\")\n",
    "p=Info(a,b)\n",
    "p.Value()"
   ]
  },
  {
   "cell_type": "code",
   "execution_count": 25,
   "id": "138f9963",
   "metadata": {},
   "outputs": [
    {
     "name": "stdout",
     "output_type": "stream",
     "text": [
      "Tushar BCA\n"
     ]
    }
   ],
   "source": [
    "class Student:\n",
    "    def __init__(self,a,b):\n",
    "        self.a=a\n",
    "        self.b=b\n",
    "    def stu(self):\n",
    "        \n",
    "        print(a,b)\n",
    "s=Student(\"Tushar\",\"BCA\")\n",
    "s.stu()"
   ]
  }
 ],
 "metadata": {
  "kernelspec": {
   "display_name": "Python 3 (ipykernel)",
   "language": "python",
   "name": "python3"
  },
  "language_info": {
   "codemirror_mode": {
    "name": "ipython",
    "version": 3
   },
   "file_extension": ".py",
   "mimetype": "text/x-python",
   "name": "python",
   "nbconvert_exporter": "python",
   "pygments_lexer": "ipython3",
   "version": "3.9.12"
  }
 },
 "nbformat": 4,
 "nbformat_minor": 5
}
